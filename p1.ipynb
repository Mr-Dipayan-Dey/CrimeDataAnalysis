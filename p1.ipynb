{
  "cells": [
    {
      "cell_type": "markdown",
      "metadata": {
        "id": "view-in-github",
        "colab_type": "text"
      },
      "source": [
        "<a href=\"https://colab.research.google.com/github/Mr-Dipayan-Dey/CrimeDataAnalysis/blob/main/p1.ipynb\" target=\"_parent\"><img src=\"https://colab.research.google.com/assets/colab-badge.svg\" alt=\"Open In Colab\"/></a>"
      ]
    },
    {
      "cell_type": "code",
      "execution_count": 68,
      "id": "f18e81fa",
      "metadata": {
        "id": "f18e81fa"
      },
      "outputs": [],
      "source": [
        "# --- Setup --- import os from pathlib import Path import pandas as pd import numpy as np import matplotlib.pyplot as plt import seaborn as sns"
      ]
    },
    {
      "cell_type": "code",
      "execution_count": 69,
      "id": "0158910c",
      "metadata": {
        "id": "0158910c"
      },
      "outputs": [],
      "source": [
        "# --- Setup ---\n",
        "\n",
        "import pandas as pd\n",
        "from pathlib import Path\n",
        "import numpy as np\n",
        "import matplotlib.pyplot as plt\n",
        "import seaborn as sns"
      ]
    },
    {
      "cell_type": "code",
      "source": [
        "from pathlib import Path\n",
        "\n",
        "INPUT_PATH = \"C:/Users/USER/Downloads/crime_data_cleaned.csv\"\n",
        "OUT_DIR = Path('./outputs')\n",
        "OUT_DIR.mkdir(exist_ok=True)"
      ],
      "metadata": {
        "id": "JKv_ekitlzUs"
      },
      "id": "JKv_ekitlzUs",
      "execution_count": 70,
      "outputs": []
    },
    {
      "cell_type": "code",
      "source": [
        "# --- Utility functions ---\n",
        "def save_df(df, name):\n",
        "    path = OUT_DIR / f\"{name}.csv\"\n",
        "    df.to_csv(path, index=False)\n",
        "    print(f\"Saved table: {path}\")"
      ],
      "metadata": {
        "id": "LWcbhUZbl7DE"
      },
      "id": "LWcbhUZbl7DE",
      "execution_count": 71,
      "outputs": []
    },
    {
      "cell_type": "code",
      "source": [
        "def save_fig(fig, name, tight=True):\n",
        "    path = OUT_DIR / f\"{name}.png\"\n",
        "    if tight:\n",
        "        fig.tight_layout()\n",
        "    fig.savefig(path, dpi=150)\n",
        "    plt.close(fig)\n",
        "    print(f\"Saved figure: {path}\")"
      ],
      "metadata": {
        "id": "454DTu2amASe"
      },
      "id": "454DTu2amASe",
      "execution_count": 72,
      "outputs": []
    },
    {
      "cell_type": "code",
      "source": [
        "\n",
        "print('Loading dataset...')\n",
        "df = pd.read_csv(\"crime_data_cleaned.csv\")\n",
        "print('Rows, cols:', df.shape)\n",
        "df.head()"
      ],
      "metadata": {
        "colab": {
          "base_uri": "https://localhost:8080/",
          "height": 431
        },
        "id": "FsJGxY7-mAFy",
        "outputId": "f2ea00c5-36a7-4682-8bd7-77ae3cbb4c18"
      },
      "id": "FsJGxY7-mAFy",
      "execution_count": 73,
      "outputs": [
        {
          "output_type": "stream",
          "name": "stdout",
          "text": [
            "Loading dataset...\n",
            "Rows, cols: (40160, 13)\n"
          ]
        },
        {
          "output_type": "execute_result",
          "data": {
            "text/plain": [
              "   Report Number     Date Reported Date of Occurrence Time of Occurrence  \\\n",
              "0              1  02-01-2020 00:00   01-01-2020 00:00   01-01-2020 01:11   \n",
              "1              2  01-01-2020 19:00   01-01-2020 01:00   01-01-2020 06:26   \n",
              "2              3  02-01-2020 05:00   01-01-2020 02:00   01-01-2020 14:30   \n",
              "3              4  01-01-2020 05:00   01-01-2020 03:00   01-01-2020 14:46   \n",
              "4              5  01-01-2020 21:00   01-01-2020 04:00   01-01-2020 16:51   \n",
              "\n",
              "        City  Crime Code Crime Description  Victim Age Victim Gender  \\\n",
              "0  Ahmedabad         576    IDENTITY THEFT          16             M   \n",
              "1    Chennai         128          HOMICIDE          37             M   \n",
              "2   Ludhiana         271        KIDNAPPING          48             F   \n",
              "3       Pune         170          BURGLARY          49             F   \n",
              "4       Pune         421         VANDALISM          30             F   \n",
              "\n",
              "    Weapon Used   Crime Domain  Police Deployed Case Closed  \n",
              "0  Blunt Object  Violent Crime               13          No  \n",
              "1        Poison    Other Crime                9          No  \n",
              "2  Blunt Object    Other Crime               15          No  \n",
              "3       Firearm    Other Crime                1         Yes  \n",
              "4         Other    Other Crime               18         Yes  "
            ],
            "text/html": [
              "\n",
              "  <div id=\"df-f8b60d80-2199-4d86-a1fa-1271b270f6f3\" class=\"colab-df-container\">\n",
              "    <div>\n",
              "<style scoped>\n",
              "    .dataframe tbody tr th:only-of-type {\n",
              "        vertical-align: middle;\n",
              "    }\n",
              "\n",
              "    .dataframe tbody tr th {\n",
              "        vertical-align: top;\n",
              "    }\n",
              "\n",
              "    .dataframe thead th {\n",
              "        text-align: right;\n",
              "    }\n",
              "</style>\n",
              "<table border=\"1\" class=\"dataframe\">\n",
              "  <thead>\n",
              "    <tr style=\"text-align: right;\">\n",
              "      <th></th>\n",
              "      <th>Report Number</th>\n",
              "      <th>Date Reported</th>\n",
              "      <th>Date of Occurrence</th>\n",
              "      <th>Time of Occurrence</th>\n",
              "      <th>City</th>\n",
              "      <th>Crime Code</th>\n",
              "      <th>Crime Description</th>\n",
              "      <th>Victim Age</th>\n",
              "      <th>Victim Gender</th>\n",
              "      <th>Weapon Used</th>\n",
              "      <th>Crime Domain</th>\n",
              "      <th>Police Deployed</th>\n",
              "      <th>Case Closed</th>\n",
              "    </tr>\n",
              "  </thead>\n",
              "  <tbody>\n",
              "    <tr>\n",
              "      <th>0</th>\n",
              "      <td>1</td>\n",
              "      <td>02-01-2020 00:00</td>\n",
              "      <td>01-01-2020 00:00</td>\n",
              "      <td>01-01-2020 01:11</td>\n",
              "      <td>Ahmedabad</td>\n",
              "      <td>576</td>\n",
              "      <td>IDENTITY THEFT</td>\n",
              "      <td>16</td>\n",
              "      <td>M</td>\n",
              "      <td>Blunt Object</td>\n",
              "      <td>Violent Crime</td>\n",
              "      <td>13</td>\n",
              "      <td>No</td>\n",
              "    </tr>\n",
              "    <tr>\n",
              "      <th>1</th>\n",
              "      <td>2</td>\n",
              "      <td>01-01-2020 19:00</td>\n",
              "      <td>01-01-2020 01:00</td>\n",
              "      <td>01-01-2020 06:26</td>\n",
              "      <td>Chennai</td>\n",
              "      <td>128</td>\n",
              "      <td>HOMICIDE</td>\n",
              "      <td>37</td>\n",
              "      <td>M</td>\n",
              "      <td>Poison</td>\n",
              "      <td>Other Crime</td>\n",
              "      <td>9</td>\n",
              "      <td>No</td>\n",
              "    </tr>\n",
              "    <tr>\n",
              "      <th>2</th>\n",
              "      <td>3</td>\n",
              "      <td>02-01-2020 05:00</td>\n",
              "      <td>01-01-2020 02:00</td>\n",
              "      <td>01-01-2020 14:30</td>\n",
              "      <td>Ludhiana</td>\n",
              "      <td>271</td>\n",
              "      <td>KIDNAPPING</td>\n",
              "      <td>48</td>\n",
              "      <td>F</td>\n",
              "      <td>Blunt Object</td>\n",
              "      <td>Other Crime</td>\n",
              "      <td>15</td>\n",
              "      <td>No</td>\n",
              "    </tr>\n",
              "    <tr>\n",
              "      <th>3</th>\n",
              "      <td>4</td>\n",
              "      <td>01-01-2020 05:00</td>\n",
              "      <td>01-01-2020 03:00</td>\n",
              "      <td>01-01-2020 14:46</td>\n",
              "      <td>Pune</td>\n",
              "      <td>170</td>\n",
              "      <td>BURGLARY</td>\n",
              "      <td>49</td>\n",
              "      <td>F</td>\n",
              "      <td>Firearm</td>\n",
              "      <td>Other Crime</td>\n",
              "      <td>1</td>\n",
              "      <td>Yes</td>\n",
              "    </tr>\n",
              "    <tr>\n",
              "      <th>4</th>\n",
              "      <td>5</td>\n",
              "      <td>01-01-2020 21:00</td>\n",
              "      <td>01-01-2020 04:00</td>\n",
              "      <td>01-01-2020 16:51</td>\n",
              "      <td>Pune</td>\n",
              "      <td>421</td>\n",
              "      <td>VANDALISM</td>\n",
              "      <td>30</td>\n",
              "      <td>F</td>\n",
              "      <td>Other</td>\n",
              "      <td>Other Crime</td>\n",
              "      <td>18</td>\n",
              "      <td>Yes</td>\n",
              "    </tr>\n",
              "  </tbody>\n",
              "</table>\n",
              "</div>\n",
              "    <div class=\"colab-df-buttons\">\n",
              "\n",
              "  <div class=\"colab-df-container\">\n",
              "    <button class=\"colab-df-convert\" onclick=\"convertToInteractive('df-f8b60d80-2199-4d86-a1fa-1271b270f6f3')\"\n",
              "            title=\"Convert this dataframe to an interactive table.\"\n",
              "            style=\"display:none;\">\n",
              "\n",
              "  <svg xmlns=\"http://www.w3.org/2000/svg\" height=\"24px\" viewBox=\"0 -960 960 960\">\n",
              "    <path d=\"M120-120v-720h720v720H120Zm60-500h600v-160H180v160Zm220 220h160v-160H400v160Zm0 220h160v-160H400v160ZM180-400h160v-160H180v160Zm440 0h160v-160H620v160ZM180-180h160v-160H180v160Zm440 0h160v-160H620v160Z\"/>\n",
              "  </svg>\n",
              "    </button>\n",
              "\n",
              "  <style>\n",
              "    .colab-df-container {\n",
              "      display:flex;\n",
              "      gap: 12px;\n",
              "    }\n",
              "\n",
              "    .colab-df-convert {\n",
              "      background-color: #E8F0FE;\n",
              "      border: none;\n",
              "      border-radius: 50%;\n",
              "      cursor: pointer;\n",
              "      display: none;\n",
              "      fill: #1967D2;\n",
              "      height: 32px;\n",
              "      padding: 0 0 0 0;\n",
              "      width: 32px;\n",
              "    }\n",
              "\n",
              "    .colab-df-convert:hover {\n",
              "      background-color: #E2EBFA;\n",
              "      box-shadow: 0px 1px 2px rgba(60, 64, 67, 0.3), 0px 1px 3px 1px rgba(60, 64, 67, 0.15);\n",
              "      fill: #174EA6;\n",
              "    }\n",
              "\n",
              "    .colab-df-buttons div {\n",
              "      margin-bottom: 4px;\n",
              "    }\n",
              "\n",
              "    [theme=dark] .colab-df-convert {\n",
              "      background-color: #3B4455;\n",
              "      fill: #D2E3FC;\n",
              "    }\n",
              "\n",
              "    [theme=dark] .colab-df-convert:hover {\n",
              "      background-color: #434B5C;\n",
              "      box-shadow: 0px 1px 3px 1px rgba(0, 0, 0, 0.15);\n",
              "      filter: drop-shadow(0px 1px 2px rgba(0, 0, 0, 0.3));\n",
              "      fill: #FFFFFF;\n",
              "    }\n",
              "  </style>\n",
              "\n",
              "    <script>\n",
              "      const buttonEl =\n",
              "        document.querySelector('#df-f8b60d80-2199-4d86-a1fa-1271b270f6f3 button.colab-df-convert');\n",
              "      buttonEl.style.display =\n",
              "        google.colab.kernel.accessAllowed ? 'block' : 'none';\n",
              "\n",
              "      async function convertToInteractive(key) {\n",
              "        const element = document.querySelector('#df-f8b60d80-2199-4d86-a1fa-1271b270f6f3');\n",
              "        const dataTable =\n",
              "          await google.colab.kernel.invokeFunction('convertToInteractive',\n",
              "                                                    [key], {});\n",
              "        if (!dataTable) return;\n",
              "\n",
              "        const docLinkHtml = 'Like what you see? Visit the ' +\n",
              "          '<a target=\"_blank\" href=https://colab.research.google.com/notebooks/data_table.ipynb>data table notebook</a>'\n",
              "          + ' to learn more about interactive tables.';\n",
              "        element.innerHTML = '';\n",
              "        dataTable['output_type'] = 'display_data';\n",
              "        await google.colab.output.renderOutput(dataTable, element);\n",
              "        const docLink = document.createElement('div');\n",
              "        docLink.innerHTML = docLinkHtml;\n",
              "        element.appendChild(docLink);\n",
              "      }\n",
              "    </script>\n",
              "  </div>\n",
              "\n",
              "\n",
              "    <div id=\"df-7e99f1c5-3b1d-4a8a-b037-c2c65ef61e8b\">\n",
              "      <button class=\"colab-df-quickchart\" onclick=\"quickchart('df-7e99f1c5-3b1d-4a8a-b037-c2c65ef61e8b')\"\n",
              "                title=\"Suggest charts\"\n",
              "                style=\"display:none;\">\n",
              "\n",
              "<svg xmlns=\"http://www.w3.org/2000/svg\" height=\"24px\"viewBox=\"0 0 24 24\"\n",
              "     width=\"24px\">\n",
              "    <g>\n",
              "        <path d=\"M19 3H5c-1.1 0-2 .9-2 2v14c0 1.1.9 2 2 2h14c1.1 0 2-.9 2-2V5c0-1.1-.9-2-2-2zM9 17H7v-7h2v7zm4 0h-2V7h2v10zm4 0h-2v-4h2v4z\"/>\n",
              "    </g>\n",
              "</svg>\n",
              "      </button>\n",
              "\n",
              "<style>\n",
              "  .colab-df-quickchart {\n",
              "      --bg-color: #E8F0FE;\n",
              "      --fill-color: #1967D2;\n",
              "      --hover-bg-color: #E2EBFA;\n",
              "      --hover-fill-color: #174EA6;\n",
              "      --disabled-fill-color: #AAA;\n",
              "      --disabled-bg-color: #DDD;\n",
              "  }\n",
              "\n",
              "  [theme=dark] .colab-df-quickchart {\n",
              "      --bg-color: #3B4455;\n",
              "      --fill-color: #D2E3FC;\n",
              "      --hover-bg-color: #434B5C;\n",
              "      --hover-fill-color: #FFFFFF;\n",
              "      --disabled-bg-color: #3B4455;\n",
              "      --disabled-fill-color: #666;\n",
              "  }\n",
              "\n",
              "  .colab-df-quickchart {\n",
              "    background-color: var(--bg-color);\n",
              "    border: none;\n",
              "    border-radius: 50%;\n",
              "    cursor: pointer;\n",
              "    display: none;\n",
              "    fill: var(--fill-color);\n",
              "    height: 32px;\n",
              "    padding: 0;\n",
              "    width: 32px;\n",
              "  }\n",
              "\n",
              "  .colab-df-quickchart:hover {\n",
              "    background-color: var(--hover-bg-color);\n",
              "    box-shadow: 0 1px 2px rgba(60, 64, 67, 0.3), 0 1px 3px 1px rgba(60, 64, 67, 0.15);\n",
              "    fill: var(--button-hover-fill-color);\n",
              "  }\n",
              "\n",
              "  .colab-df-quickchart-complete:disabled,\n",
              "  .colab-df-quickchart-complete:disabled:hover {\n",
              "    background-color: var(--disabled-bg-color);\n",
              "    fill: var(--disabled-fill-color);\n",
              "    box-shadow: none;\n",
              "  }\n",
              "\n",
              "  .colab-df-spinner {\n",
              "    border: 2px solid var(--fill-color);\n",
              "    border-color: transparent;\n",
              "    border-bottom-color: var(--fill-color);\n",
              "    animation:\n",
              "      spin 1s steps(1) infinite;\n",
              "  }\n",
              "\n",
              "  @keyframes spin {\n",
              "    0% {\n",
              "      border-color: transparent;\n",
              "      border-bottom-color: var(--fill-color);\n",
              "      border-left-color: var(--fill-color);\n",
              "    }\n",
              "    20% {\n",
              "      border-color: transparent;\n",
              "      border-left-color: var(--fill-color);\n",
              "      border-top-color: var(--fill-color);\n",
              "    }\n",
              "    30% {\n",
              "      border-color: transparent;\n",
              "      border-left-color: var(--fill-color);\n",
              "      border-top-color: var(--fill-color);\n",
              "      border-right-color: var(--fill-color);\n",
              "    }\n",
              "    40% {\n",
              "      border-color: transparent;\n",
              "      border-right-color: var(--fill-color);\n",
              "      border-top-color: var(--fill-color);\n",
              "    }\n",
              "    60% {\n",
              "      border-color: transparent;\n",
              "      border-right-color: var(--fill-color);\n",
              "    }\n",
              "    80% {\n",
              "      border-color: transparent;\n",
              "      border-right-color: var(--fill-color);\n",
              "      border-bottom-color: var(--fill-color);\n",
              "    }\n",
              "    90% {\n",
              "      border-color: transparent;\n",
              "      border-bottom-color: var(--fill-color);\n",
              "    }\n",
              "  }\n",
              "</style>\n",
              "\n",
              "      <script>\n",
              "        async function quickchart(key) {\n",
              "          const quickchartButtonEl =\n",
              "            document.querySelector('#' + key + ' button');\n",
              "          quickchartButtonEl.disabled = true;  // To prevent multiple clicks.\n",
              "          quickchartButtonEl.classList.add('colab-df-spinner');\n",
              "          try {\n",
              "            const charts = await google.colab.kernel.invokeFunction(\n",
              "                'suggestCharts', [key], {});\n",
              "          } catch (error) {\n",
              "            console.error('Error during call to suggestCharts:', error);\n",
              "          }\n",
              "          quickchartButtonEl.classList.remove('colab-df-spinner');\n",
              "          quickchartButtonEl.classList.add('colab-df-quickchart-complete');\n",
              "        }\n",
              "        (() => {\n",
              "          let quickchartButtonEl =\n",
              "            document.querySelector('#df-7e99f1c5-3b1d-4a8a-b037-c2c65ef61e8b button');\n",
              "          quickchartButtonEl.style.display =\n",
              "            google.colab.kernel.accessAllowed ? 'block' : 'none';\n",
              "        })();\n",
              "      </script>\n",
              "    </div>\n",
              "\n",
              "    </div>\n",
              "  </div>\n"
            ],
            "application/vnd.google.colaboratory.intrinsic+json": {
              "type": "dataframe",
              "variable_name": "df",
              "summary": "{\n  \"name\": \"df\",\n  \"rows\": 40160,\n  \"fields\": [\n    {\n      \"column\": \"Report Number\",\n      \"properties\": {\n        \"dtype\": \"number\",\n        \"std\": 11593,\n        \"min\": 1,\n        \"max\": 40160,\n        \"num_unique_values\": 40160,\n        \"samples\": [\n          11032,\n          10507,\n          36399\n        ],\n        \"semantic_type\": \"\",\n        \"description\": \"\"\n      }\n    },\n    {\n      \"column\": \"Date Reported\",\n      \"properties\": {\n        \"dtype\": \"string\",\n        \"num_unique_values\": 25546,\n        \"samples\": [\n          \"09-03-2021 12:00\",\n          \"06-08-2023 04:00\",\n          \"27-01-2022 08:00\"\n        ],\n        \"semantic_type\": \"\",\n        \"description\": \"\"\n      }\n    },\n    {\n      \"column\": \"Date of Occurrence\",\n      \"properties\": {\n        \"dtype\": \"object\",\n        \"num_unique_values\": 40160,\n        \"samples\": [\n          \"04-04-2021 15:00\",\n          \"03-13-2021 18:00\",\n          \"02-25-2024 14:00\"\n        ],\n        \"semantic_type\": \"\",\n        \"description\": \"\"\n      }\n    },\n    {\n      \"column\": \"Time of Occurrence\",\n      \"properties\": {\n        \"dtype\": \"string\",\n        \"num_unique_values\": 39886,\n        \"samples\": [\n          \"01-04-2021 19:34\",\n          \"02-06-2020 20:29\",\n          \"22-05-2020 11:56\"\n        ],\n        \"semantic_type\": \"\",\n        \"description\": \"\"\n      }\n    },\n    {\n      \"column\": \"City\",\n      \"properties\": {\n        \"dtype\": \"category\",\n        \"num_unique_values\": 29,\n        \"samples\": [\n          \"Srinagar\",\n          \"Kanpur\",\n          \"Jaipur\"\n        ],\n        \"semantic_type\": \"\",\n        \"description\": \"\"\n      }\n    },\n    {\n      \"column\": \"Crime Code\",\n      \"properties\": {\n        \"dtype\": \"number\",\n        \"std\": 144,\n        \"min\": 100,\n        \"max\": 599,\n        \"num_unique_values\": 500,\n        \"samples\": [\n          382,\n          197,\n          149\n        ],\n        \"semantic_type\": \"\",\n        \"description\": \"\"\n      }\n    },\n    {\n      \"column\": \"Crime Description\",\n      \"properties\": {\n        \"dtype\": \"category\",\n        \"num_unique_values\": 21,\n        \"samples\": [\n          \"IDENTITY THEFT\",\n          \"ILLEGAL POSSESSION\",\n          \"TRAFFIC VIOLATION\"\n        ],\n        \"semantic_type\": \"\",\n        \"description\": \"\"\n      }\n    },\n    {\n      \"column\": \"Victim Age\",\n      \"properties\": {\n        \"dtype\": \"number\",\n        \"std\": 20,\n        \"min\": 10,\n        \"max\": 79,\n        \"num_unique_values\": 70,\n        \"samples\": [\n          33,\n          16,\n          10\n        ],\n        \"semantic_type\": \"\",\n        \"description\": \"\"\n      }\n    },\n    {\n      \"column\": \"Victim Gender\",\n      \"properties\": {\n        \"dtype\": \"category\",\n        \"num_unique_values\": 3,\n        \"samples\": [\n          \"M\",\n          \"F\",\n          \"X\"\n        ],\n        \"semantic_type\": \"\",\n        \"description\": \"\"\n      }\n    },\n    {\n      \"column\": \"Weapon Used\",\n      \"properties\": {\n        \"dtype\": \"category\",\n        \"num_unique_values\": 6,\n        \"samples\": [\n          \"Blunt Object\",\n          \"Poison\",\n          \"Explosives\"\n        ],\n        \"semantic_type\": \"\",\n        \"description\": \"\"\n      }\n    },\n    {\n      \"column\": \"Crime Domain\",\n      \"properties\": {\n        \"dtype\": \"category\",\n        \"num_unique_values\": 4,\n        \"samples\": [\n          \"Other Crime\",\n          \"Traffic Fatality\",\n          \"Violent Crime\"\n        ],\n        \"semantic_type\": \"\",\n        \"description\": \"\"\n      }\n    },\n    {\n      \"column\": \"Police Deployed\",\n      \"properties\": {\n        \"dtype\": \"number\",\n        \"std\": 5,\n        \"min\": 1,\n        \"max\": 19,\n        \"num_unique_values\": 19,\n        \"samples\": [\n          13,\n          8,\n          6\n        ],\n        \"semantic_type\": \"\",\n        \"description\": \"\"\n      }\n    },\n    {\n      \"column\": \"Case Closed\",\n      \"properties\": {\n        \"dtype\": \"category\",\n        \"num_unique_values\": 2,\n        \"samples\": [\n          \"Yes\",\n          \"No\"\n        ],\n        \"semantic_type\": \"\",\n        \"description\": \"\"\n      }\n    }\n  ]\n}"
            }
          },
          "metadata": {},
          "execution_count": 73
        }
      ]
    },
    {
      "cell_type": "code",
      "source": [
        "# --- Data Cleaning / Preprocessing ---\n",
        "# Strip column names\n",
        "df.columns = [c.strip() for c in df.columns]"
      ],
      "metadata": {
        "id": "-jsOJF2PmADD"
      },
      "id": "-jsOJF2PmADD",
      "execution_count": 74,
      "outputs": []
    },
    {
      "cell_type": "code",
      "source": [
        "# Parse dates if available\n",
        "for col in ['Date Reported', 'Date of Occurrence', 'Date Case Closed']:\n",
        "    if col in df.columns:\n",
        "        df[col] = pd.to_datetime(df[col], dayfirst=True, errors='coerce')"
      ],
      "metadata": {
        "id": "wNSlr5UFmAAa"
      },
      "id": "wNSlr5UFmAAa",
      "execution_count": 75,
      "outputs": []
    },
    {
      "cell_type": "code",
      "source": [
        "# Numeric conversion if present\n",
        "if 'Police Deployed' in df.columns:\n",
        "    df['Police Deployed'] = pd.to_numeric(df['Police Deployed'], errors='coerce').fillna(0).astype(int)"
      ],
      "metadata": {
        "id": "-q_ckJ3bl_9i"
      },
      "id": "-q_ckJ3bl_9i",
      "execution_count": 76,
      "outputs": []
    },
    {
      "cell_type": "code",
      "source": [
        "# Strip strings (only if column exists)\n",
        "for col in ['Crime Domain', 'Weapon Used', 'Crime Description', 'Victim Gender', 'City']:\n",
        "    if col in df.columns:\n",
        "        df[col] = df[col].astype(str).str.strip()"
      ],
      "metadata": {
        "id": "SI0t8pqIl_62"
      },
      "id": "SI0t8pqIl_62",
      "execution_count": 77,
      "outputs": []
    },
    {
      "cell_type": "code",
      "source": [
        "# Case closure flag\n",
        "if 'Case Closed' in df.columns:\n",
        "    df['Case_Closed_Flag'] = df['Case Closed'].str.lower().map({'yes': 1, 'no': 0}).fillna(0).astype(int)\n"
      ],
      "metadata": {
        "id": "NJjFOeIFl_32"
      },
      "id": "NJjFOeIFl_32",
      "execution_count": 78,
      "outputs": []
    },
    {
      "cell_type": "code",
      "source": [
        "# Time to close (days)\n",
        "if 'Date Reported' in df.columns and 'Date Case Closed' in df.columns:\n",
        "    df['Time_to_Close_days'] = (df['Date Case Closed'] - df['Date Reported']).dt.total_seconds() / (24*3600)"
      ],
      "metadata": {
        "id": "Lxs9xA0xl_07"
      },
      "id": "Lxs9xA0xl_07",
      "execution_count": 79,
      "outputs": []
    },
    {
      "cell_type": "code",
      "source": [
        "## 1. Crime Trends by City\n"
      ],
      "metadata": {
        "id": "4GzS0Ittl_o-"
      },
      "id": "4GzS0Ittl_o-",
      "execution_count": 80,
      "outputs": []
    },
    {
      "cell_type": "code",
      "source": [
        "# Crime counts by city\n",
        "if 'City' in df.columns:\n",
        "    city_counts = df['City'].value_counts().reset_index()\n",
        "    city_counts.columns = ['City', 'Crime_Count']\n",
        "    save_df(city_counts, 'city_crime_counts')\n"
      ],
      "metadata": {
        "colab": {
          "base_uri": "https://localhost:8080/"
        },
        "id": "uyDWP-6Ol_ey",
        "outputId": "3549ce0e-56ca-4cf7-fa71-f40b13328ab7"
      },
      "id": "uyDWP-6Ol_ey",
      "execution_count": 81,
      "outputs": [
        {
          "output_type": "stream",
          "name": "stdout",
          "text": [
            "Saved table: outputs/city_crime_counts.csv\n"
          ]
        }
      ]
    },
    {
      "cell_type": "code",
      "source": [
        "# Top 15 cities\n",
        "plt.figure(figsize=(10,6))\n",
        "sns.barplot(data=city_counts.head(15), x='Crime_Count', y='City')\n",
        "plt.title('Top 15 Cities by Crime Count')\n",
        "save_fig(plt.gcf(), 'top15_cities_crime_count')\n",
        "plt.show()"
      ],
      "metadata": {
        "colab": {
          "base_uri": "https://localhost:8080/"
        },
        "id": "PWSJesIinqa4",
        "outputId": "a14e703c-258e-4128-e64d-21abb52bdb9d"
      },
      "id": "PWSJesIinqa4",
      "execution_count": 82,
      "outputs": [
        {
          "output_type": "stream",
          "name": "stdout",
          "text": [
            "Saved figure: outputs/top15_cities_crime_count.png\n"
          ]
        }
      ]
    },
    {
      "cell_type": "code",
      "source": [
        " # Distribution of crime domains across top 10 cities\n",
        "if 'City' in df.columns and 'Crime Domain' in df.columns:\n",
        "    top_cities = df['City'].value_counts().head(10).index\n",
        "    domain_by_city = df[df['City'].isin(top_cities)].groupby(['City','Crime Domain']).size().unstack(fill_value=0)"
      ],
      "metadata": {
        "id": "3RgqpKZ9nqYU"
      },
      "id": "3RgqpKZ9nqYU",
      "execution_count": 83,
      "outputs": []
    },
    {
      "cell_type": "code",
      "source": [
        "fig, ax = plt.subplots(figsize=(12,6))\n",
        "domain_by_city.plot(kind='bar', stacked=True, ax=ax)\n",
        "plt.title('Crime Domain Distribution across Top 10 Cities')\n",
        "plt.ylabel('Count')\n",
        "save_fig(fig, 'domain_distribution_top10_cities')\n",
        "plt.show()"
      ],
      "metadata": {
        "colab": {
          "base_uri": "https://localhost:8080/"
        },
        "id": "nZ0b43crnqVs",
        "outputId": "706880b5-d8be-46cd-a6f7-cec3109bee11"
      },
      "id": "nZ0b43crnqVs",
      "execution_count": 84,
      "outputs": [
        {
          "output_type": "stream",
          "name": "stdout",
          "text": [
            "Saved figure: outputs/domain_distribution_top10_cities.png\n"
          ]
        }
      ]
    },
    {
      "cell_type": "code",
      "source": [
        "## 2. Crime Type Analysis\n"
      ],
      "metadata": {
        "id": "EIEY4mn5nqS3"
      },
      "id": "EIEY4mn5nqS3",
      "execution_count": 85,
      "outputs": []
    },
    {
      "cell_type": "code",
      "source": [
        "# Top crime descriptions\n",
        "if 'Crime Description' in df.columns:\n",
        "    top_descriptions = df['Crime Description'].value_counts().reset_index()\n",
        "    top_descriptions.columns = ['Crime Description','Count']\n",
        "    save_df(top_descriptions, 'top_crime_descriptions')"
      ],
      "metadata": {
        "colab": {
          "base_uri": "https://localhost:8080/"
        },
        "id": "UpzdlsnmnqQF",
        "outputId": "713df162-007d-40d7-9322-3a93b71980c1"
      },
      "id": "UpzdlsnmnqQF",
      "execution_count": 86,
      "outputs": [
        {
          "output_type": "stream",
          "name": "stdout",
          "text": [
            "Saved table: outputs/top_crime_descriptions.csv\n"
          ]
        }
      ]
    },
    {
      "cell_type": "code",
      "source": [
        "plt.figure(figsize=(10,6))\n",
        "sns.barplot(data=top_descriptions.head(15), x='Count', y='Crime Description')\n",
        "plt.title('Top 15 Crime Descriptions')\n",
        "save_fig(plt.gcf(), 'top15_crime_descriptions')\n",
        "plt.show()"
      ],
      "metadata": {
        "colab": {
          "base_uri": "https://localhost:8080/"
        },
        "id": "IL11kXDHnqNW",
        "outputId": "4f504603-75b8-4808-8c66-a4e6002bdd2f"
      },
      "id": "IL11kXDHnqNW",
      "execution_count": 87,
      "outputs": [
        {
          "output_type": "stream",
          "name": "stdout",
          "text": [
            "Saved figure: outputs/top15_crime_descriptions.png\n"
          ]
        }
      ]
    },
    {
      "cell_type": "code",
      "source": [
        "# Crime domain counts\n",
        "if 'Crime Domain' in df.columns:\n",
        "    domain_counts = df['Crime Domain'].value_counts().reset_index()\n",
        "    domain_counts.columns = ['Crime Domain','Count']\n",
        "    save_df(domain_counts, 'crime_domain_counts')\n"
      ],
      "metadata": {
        "colab": {
          "base_uri": "https://localhost:8080/"
        },
        "id": "fg1WBLnwnqKv",
        "outputId": "e353c460-6d77-4b97-829a-19068710c02a"
      },
      "id": "fg1WBLnwnqKv",
      "execution_count": 88,
      "outputs": [
        {
          "output_type": "stream",
          "name": "stdout",
          "text": [
            "Saved table: outputs/crime_domain_counts.csv\n"
          ]
        }
      ]
    },
    {
      "cell_type": "code",
      "source": [
        "plt.figure(figsize=(8,5))\n",
        "sns.barplot(data=domain_counts, x='Count', y='Crime Domain')\n",
        "plt.title('Crime Domain Counts')\n",
        "save_fig(plt.gcf(), 'crime_domain_counts')\n",
        "plt.show()"
      ],
      "metadata": {
        "colab": {
          "base_uri": "https://localhost:8080/"
        },
        "id": "uI2sGF6hnqIK",
        "outputId": "bb5cc0b1-9569-449c-9448-b21bd1ca7498"
      },
      "id": "uI2sGF6hnqIK",
      "execution_count": 90,
      "outputs": [
        {
          "output_type": "stream",
          "name": "stdout",
          "text": [
            "Saved figure: outputs/crime_domain_counts.png\n"
          ]
        }
      ]
    },
    {
      "cell_type": "code",
      "source": [
        "# Top weapons used\n",
        "if 'Weapon Used' in df.columns:\n",
        "    weapon_counts = df['Weapon Used'].value_counts().reset_index()\n",
        "    weapon_counts.columns = ['Weapon Used','Count']\n",
        "    save_df(weapon_counts, 'weapon_counts')"
      ],
      "metadata": {
        "colab": {
          "base_uri": "https://localhost:8080/"
        },
        "id": "Zav90mPFnqFn",
        "outputId": "103ec945-8f90-4844-abdb-4117959626be"
      },
      "id": "Zav90mPFnqFn",
      "execution_count": 91,
      "outputs": [
        {
          "output_type": "stream",
          "name": "stdout",
          "text": [
            "Saved table: outputs/weapon_counts.csv\n"
          ]
        }
      ]
    },
    {
      "cell_type": "code",
      "source": [
        "# Top weapons used\n",
        "if 'Weapon Used' in df.columns:\n",
        "    weapon_counts = df['Weapon Used'].value_counts().reset_index()\n",
        "    weapon_counts.columns = ['Weapon Used','Count']\n",
        "    save_df(weapon_counts, 'weapon_counts')"
      ],
      "metadata": {
        "colab": {
          "base_uri": "https://localhost:8080/"
        },
        "id": "9xNxv-QqnqCx",
        "outputId": "779cf9b0-76f9-4482-ed3a-726071abf13b"
      },
      "id": "9xNxv-QqnqCx",
      "execution_count": 92,
      "outputs": [
        {
          "output_type": "stream",
          "name": "stdout",
          "text": [
            "Saved table: outputs/weapon_counts.csv\n"
          ]
        }
      ]
    },
    {
      "cell_type": "code",
      "source": [
        "plt.figure(figsize=(10,6))\n",
        "sns.barplot(data=weapon_counts.head(15), x='Count', y='Weapon Used')\n",
        "plt.title('Top 15 Weapons Used')\n",
        "save_fig(plt.gcf(), 'top15_weapons')\n",
        "plt.show()"
      ],
      "metadata": {
        "colab": {
          "base_uri": "https://localhost:8080/"
        },
        "id": "M5--znxdnp_6",
        "outputId": "a3464ab5-30c9-4107-e6a4-908fd938312e"
      },
      "id": "M5--znxdnp_6",
      "execution_count": 94,
      "outputs": [
        {
          "output_type": "stream",
          "name": "stdout",
          "text": [
            "Saved figure: outputs/top15_weapons.png\n"
          ]
        }
      ]
    },
    {
      "cell_type": "code",
      "source": [
        "## 3. Victim Demographics"
      ],
      "metadata": {
        "id": "YdpinNyNnp77"
      },
      "id": "YdpinNyNnp77",
      "execution_count": 95,
      "outputs": []
    },
    {
      "cell_type": "code",
      "source": [
        "# Age distribution\n",
        "if 'Victim Age' in df.columns:\n",
        "    age_stats = df['Victim Age'].describe()\n",
        "    print(age_stats)\n",
        "    save_df(age_stats.reset_index(), 'victim_age_stats')\n"
      ],
      "metadata": {
        "colab": {
          "base_uri": "https://localhost:8080/"
        },
        "id": "ot5CBcefnp2G",
        "outputId": "0253424d-cefa-4aae-8235-4625c7e0dfaf"
      },
      "id": "ot5CBcefnp2G",
      "execution_count": 96,
      "outputs": [
        {
          "output_type": "stream",
          "name": "stdout",
          "text": [
            "count    40160.00000\n",
            "mean        44.49126\n",
            "std         20.22555\n",
            "min         10.00000\n",
            "25%         27.00000\n",
            "50%         44.00000\n",
            "75%         62.00000\n",
            "max         79.00000\n",
            "Name: Victim Age, dtype: float64\n",
            "Saved table: outputs/victim_age_stats.csv\n"
          ]
        }
      ]
    },
    {
      "cell_type": "code",
      "source": [
        "plt.figure(figsize=(10,5))\n",
        "sns.histplot(df['Victim Age'], kde=True, bins=30)\n",
        "plt.title('Victim Age Distribution')\n",
        "plt.xlabel('Age')\n",
        "save_fig(plt.gcf(), 'victim_age_distribution')\n",
        "plt.show()"
      ],
      "metadata": {
        "colab": {
          "base_uri": "https://localhost:8080/"
        },
        "id": "vG0MxnLdtyRW",
        "outputId": "59a8c892-353a-4c7b-a8dd-98dc2f854cb2"
      },
      "id": "vG0MxnLdtyRW",
      "execution_count": 99,
      "outputs": [
        {
          "output_type": "stream",
          "name": "stdout",
          "text": [
            "Saved figure: outputs/victim_age_distribution.png\n"
          ]
        }
      ]
    },
    {
      "cell_type": "code",
      "source": [
        "# Gender distribution\n",
        "if 'Victim Gender' in df.columns:\n",
        "    gender_counts = df['Victim Gender'].value_counts().reset_index()\n",
        "    gender_counts.columns = ['Victim Gender','Count']\n",
        "    save_df(gender_counts, 'victim_gender_counts')\n",
        "\n",
        "    plt.figure(figsize=(6,4))\n",
        "    sns.barplot(data=gender_counts, x='Victim Gender', y='Count')\n",
        "    plt.title('Victim Gender Distribution')\n",
        "    save_fig(plt.gcf(), 'victim_gender_distribution')\n",
        "    plt.show()\n"
      ],
      "metadata": {
        "colab": {
          "base_uri": "https://localhost:8080/"
        },
        "id": "G21JsMu0tyO2",
        "outputId": "b17e3670-e0b5-437c-ef8b-abb5259f0f9c"
      },
      "id": "G21JsMu0tyO2",
      "execution_count": 100,
      "outputs": [
        {
          "output_type": "stream",
          "name": "stdout",
          "text": [
            "Saved table: outputs/victim_gender_counts.csv\n",
            "Saved figure: outputs/victim_gender_distribution.png\n"
          ]
        }
      ]
    },
    {
      "cell_type": "code",
      "source": [
        "# Gender distribution across top 10 crime descriptions\n",
        "if 'Victim Gender' in df.columns and 'Crime Description' in df.columns:\n",
        "    top10_desc = df['Crime Description'].value_counts().head(10).index\n",
        "    gender_by_desc = df[df['Crime Description'].isin(top10_desc)].groupby(['Crime Description','Victim Gender']).size().unstack(fill_value=0)\n",
        "\n",
        "    fig, ax = plt.subplots(figsize=(12,6))\n",
        "    gender_by_desc.plot(kind='bar', stacked=True, ax=ax)\n",
        "    plt.title('Gender Distribution across Top 10 Crime Descriptions')\n",
        "    save_fig(fig, 'gender_by_top10_crimes')\n",
        "    plt.show()\n"
      ],
      "metadata": {
        "colab": {
          "base_uri": "https://localhost:8080/"
        },
        "id": "41i5Hx4FtyL_",
        "outputId": "2054332f-9041-40e8-fa72-b56c186137ec"
      },
      "id": "41i5Hx4FtyL_",
      "execution_count": 101,
      "outputs": [
        {
          "output_type": "stream",
          "name": "stdout",
          "text": [
            "Saved figure: outputs/gender_by_top10_crimes.png\n"
          ]
        }
      ]
    },
    {
      "cell_type": "code",
      "source": [
        "## 4. Police Effectiveness\n"
      ],
      "metadata": {
        "id": "hS079RMrtyJV"
      },
      "id": "hS079RMrtyJV",
      "execution_count": 102,
      "outputs": []
    },
    {
      "cell_type": "code",
      "source": [
        "# Average police deployed\n",
        "if 'Police Deployed' in df.columns:\n",
        "    avg_police_overall = df['Police Deployed'].mean()\n",
        "    print('Average police deployed per case:', avg_police_overall)\n",
        "\n",
        "    police_by_city = df.groupby('City')['Police Deployed'].agg(['mean','median','count']).reset_index()\n",
        "    save_df(police_by_city, 'police_deployed_by_city')\n"
      ],
      "metadata": {
        "colab": {
          "base_uri": "https://localhost:8080/"
        },
        "id": "tzNrhAphtyGo",
        "outputId": "d7082072-8616-4d26-c9ba-75118472e7e6"
      },
      "id": "tzNrhAphtyGo",
      "execution_count": 104,
      "outputs": [
        {
          "output_type": "stream",
          "name": "stdout",
          "text": [
            "Average police deployed per case: 10.00625\n",
            "Saved table: outputs/police_deployed_by_city.csv\n"
          ]
        }
      ]
    },
    {
      "cell_type": "code",
      "source": [
        "# Correlation between police and closure\n",
        "if 'Police Deployed' in df.columns and 'Case_Closed_Flag' in df.columns:\n",
        "    corr = df[['Police Deployed','Case_Closed_Flag']].corr().loc['Police Deployed','Case_Closed_Flag']\n",
        "    print('Correlation Police vs Case Closure:', corr)\n",
        "\n",
        "    plt.figure(figsize=(8,5))\n",
        "    sns.boxplot(data=df, x='Case_Closed_Flag', y='Police Deployed')\n",
        "    plt.xlabel('Case Closed (0=No, 1=Yes)')\n",
        "    plt.title('Police Deployed by Case Closure')\n",
        "    save_fig(plt.gcf(), 'police_by_case_closed')\n",
        "    plt.show()\n"
      ],
      "metadata": {
        "colab": {
          "base_uri": "https://localhost:8080/"
        },
        "id": "aAGpJ7hStyD7",
        "outputId": "0726da05-1a06-4db1-f8d0-80f20b81b592"
      },
      "id": "aAGpJ7hStyD7",
      "execution_count": 103,
      "outputs": [
        {
          "output_type": "stream",
          "name": "stdout",
          "text": [
            "Correlation Police vs Case Closure: -0.0025355196560186977\n",
            "Saved figure: outputs/police_by_case_closed.png\n"
          ]
        }
      ]
    },
    {
      "cell_type": "code",
      "source": [
        "## 5. Case Closure\n"
      ],
      "metadata": {
        "id": "eF38w3iytyBF"
      },
      "id": "eF38w3iytyBF",
      "execution_count": 105,
      "outputs": []
    },
    {
      "cell_type": "code",
      "source": [
        "# Open vs closed\n",
        "if 'Case_Closed_Flag' in df.columns:\n",
        "    closure_counts = df['Case_Closed_Flag'].value_counts().rename(index={1:'Closed',0:'Open'}).reset_index()\n",
        "    closure_counts.columns = ['Status','Count']\n",
        "    closure_counts['Pct'] = closure_counts['Count'] / closure_counts['Count'].sum() * 100\n",
        "    print(closure_counts)\n",
        "    save_df(closure_counts, 'case_closure_counts')\n",
        "\n",
        "    plt.figure(figsize=(6,6))\n",
        "    plt.pie(closure_counts['Count'], labels=closure_counts['Status'], autopct='%1.1f%%')\n",
        "    plt.title('Case Closure: Closed vs Open')\n",
        "    save_fig(plt.gcf(), 'case_closure_pie')\n",
        "    plt.show()\n"
      ],
      "metadata": {
        "colab": {
          "base_uri": "https://localhost:8080/"
        },
        "id": "6QIsYH6Wtx-X",
        "outputId": "26f859fe-0310-4ada-cdc9-81bedae63185"
      },
      "id": "6QIsYH6Wtx-X",
      "execution_count": 106,
      "outputs": [
        {
          "output_type": "stream",
          "name": "stdout",
          "text": [
            "   Status  Count        Pct\n",
            "0    Open  20098  50.044821\n",
            "1  Closed  20062  49.955179\n",
            "Saved table: outputs/case_closure_counts.csv\n",
            "Saved figure: outputs/case_closure_pie.png\n"
          ]
        }
      ]
    },
    {
      "cell_type": "code",
      "source": [
        "# Time to close stats\n",
        "if 'Time_to_Close_days' in df.columns and 'Case_Closed_Flag' in df.columns:\n",
        "    time_stats = df.loc[df['Case_Closed_Flag']==1, 'Time_to_Close_days'].describe()\n",
        "    print(time_stats)\n",
        "    save_df(time_stats.reset_index(), 'time_to_close_stats')\n",
        "\n",
        "    plt.figure(figsize=(10,5))\n",
        "    sns.histplot(df.loc[df['Case_Closed_Flag']==1, 'Time_to_Close_days'], bins=50, kde=True)\n",
        "    plt.title('Time to Close Distribution (days)')\n",
        "    save_fig(plt.gcf(), 'time_to_close_distribution')\n",
        "    plt.show()\n"
      ],
      "metadata": {
        "id": "9ROHP6rTtx7l"
      },
      "id": "9ROHP6rTtx7l",
      "execution_count": 107,
      "outputs": []
    },
    {
      "cell_type": "code",
      "source": [
        "# Police deployed vs time to close\n",
        "if 'Police Deployed' in df.columns and 'Time_to_Close_days' in df.columns:\n",
        "    plt.figure(figsize=(8,6))\n",
        "    sns.scatterplot(data=df[df['Case_Closed_Flag']==1], x='Police Deployed', y='Time_to_Close_days', alpha=0.4)\n",
        "    plt.title('Police Deployed vs Time to Close (Closed Cases)')\n",
        "    save_fig(plt.gcf(), 'police_vs_time_to_close')\n",
        "    plt.show()\n"
      ],
      "metadata": {
        "id": "0IGJJmwDtx43"
      },
      "id": "0IGJJmwDtx43",
      "execution_count": 108,
      "outputs": []
    }
  ],
  "metadata": {
    "kernelspec": {
      "display_name": "base",
      "language": "python",
      "name": "python3"
    },
    "language_info": {
      "codemirror_mode": {
        "name": "ipython",
        "version": 3
      },
      "file_extension": ".py",
      "mimetype": "text/x-python",
      "name": "python",
      "nbconvert_exporter": "python",
      "pygments_lexer": "ipython3",
      "version": "3.13.5"
    },
    "colab": {
      "provenance": [],
      "include_colab_link": true
    }
  },
  "nbformat": 4,
  "nbformat_minor": 5
}